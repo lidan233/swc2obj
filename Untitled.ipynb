{
 "cells": [
  {
   "cell_type": "code",
   "execution_count": 16,
   "metadata": {},
   "outputs": [
    {
     "name": "stdout",
     "output_type": "stream",
     "text": [
      "C:/Users/lidan/Desktop/SWC2Obj/cmake-build-release/SWC2Obj.exe -s C:/Users/lidan/Desktop/brain/14193_30neurons/N024.swc -o D:/person/temp/ -b 256 &&\"D:/software/ParaView 5.8.1-Windows-Python3.7-msvc2015-64bit/bin/python4.exe\" C:/Users/lidan/PycharmProjects/volume2obj/main.py -i D:/person/temp/newResult/N024.swc -o D:/person/temp/N024_use.obj &&  C:/Users/lidan/Desktop/SWC2Obj/cmake-build-release/ObjMerge/mergeOBJ.exe -i  D:/person/temp/N024_use.obj -o D:/person/temp/N024_new_use.obj&&C:/Users/lidan/Desktop/SWC2Obj/cmake-build-release/SWC2Obj.exe -s C:/Users/lidan/Desktop/brain/14193_30neurons/N025.swc -o D:/person/temp/ -b 256 &&\"D:/software/ParaView 5.8.1-Windows-Python3.7-msvc2015-64bit/bin/python4.exe\" C:/Users/lidan/PycharmProjects/volume2obj/main.py -i D:/person/temp/newResult/N025.swc -o D:/person/temp/N025_use.obj &&  C:/Users/lidan/Desktop/SWC2Obj/cmake-build-release/ObjMerge/mergeOBJ.exe -i  D:/person/temp/N025_use.obj -o D:/person/temp/N025_new_use.obj&&C:/Users/lidan/Desktop/SWC2Obj/cmake-build-release/SWC2Obj.exe -s C:/Users/lidan/Desktop/brain/14193_30neurons/N026.swc -o D:/person/temp/ -b 128 &&\"D:/software/ParaView 5.8.1-Windows-Python3.7-msvc2015-64bit/bin/python4.exe\" C:/Users/lidan/PycharmProjects/volume2obj/main.py -i D:/person/temp/newResult/N026.swc -o D:/person/temp/N026_use.obj &&  C:/Users/lidan/Desktop/SWC2Obj/cmake-build-release/ObjMerge/mergeOBJ.exe -i  D:/person/temp/N026_use.obj -o D:/person/temp/N026_new_use.obj&&C:/Users/lidan/Desktop/SWC2Obj/cmake-build-release/SWC2Obj.exe -s C:/Users/lidan/Desktop/brain/14193_30neurons/N027.swc -o D:/person/temp/ -b 256 &&\"D:/software/ParaView 5.8.1-Windows-Python3.7-msvc2015-64bit/bin/python4.exe\" C:/Users/lidan/PycharmProjects/volume2obj/main.py -i D:/person/temp/newResult/N027.swc -o D:/person/temp/N027_use.obj &&  C:/Users/lidan/Desktop/SWC2Obj/cmake-build-release/ObjMerge/mergeOBJ.exe -i  D:/person/temp/N027_use.obj -o D:/person/temp/N027_new_use.obj&&C:/Users/lidan/Desktop/SWC2Obj/cmake-build-release/SWC2Obj.exe -s C:/Users/lidan/Desktop/brain/14193_30neurons/N028.swc -o D:/person/temp/ -b 256 &&\"D:/software/ParaView 5.8.1-Windows-Python3.7-msvc2015-64bit/bin/python4.exe\" C:/Users/lidan/PycharmProjects/volume2obj/main.py -i D:/person/temp/newResult/N028.swc -o D:/person/temp/N028_use.obj &&  C:/Users/lidan/Desktop/SWC2Obj/cmake-build-release/ObjMerge/mergeOBJ.exe -i  D:/person/temp/N028_use.obj -o D:/person/temp/N028_new_use.obj&&C:/Users/lidan/Desktop/SWC2Obj/cmake-build-release/SWC2Obj.exe -s C:/Users/lidan/Desktop/brain/14193_30neurons/N029.swc -o D:/person/temp/ -b 256 &&\"D:/software/ParaView 5.8.1-Windows-Python3.7-msvc2015-64bit/bin/python4.exe\" C:/Users/lidan/PycharmProjects/volume2obj/main.py -i D:/person/temp/newResult/N029.swc -o D:/person/temp/N029_use.obj &&  C:/Users/lidan/Desktop/SWC2Obj/cmake-build-release/ObjMerge/mergeOBJ.exe -i  D:/person/temp/N029_use.obj -o D:/person/temp/N029_new_use.obj\n"
     ]
    }
   ],
   "source": [
    "import sys\n",
    "\n",
    "from subprocess import Popen, PIPE, STDOUT\n",
    "import os\n",
    "\n",
    "# cmd = '''git-bash.exe&&C:/Users/lidan/Desktop/SWC2Obj/cmake-build-release/SWC2Obj.exe -s C:/Users/lidan/Desktop/brain/14193_30neurons/ -o C:/Users/lidan/Desktop/SWC2Obj/Result/ -b 128'''\n",
    "\n",
    "# t = Popen(cmd, shell=True, stdout = PIPE,stderr = PIPE)\n",
    "# for line in iter(t.stdout.readline, ''):\n",
    "#     print(line)\n",
    "# t.stdout.close()\n",
    "# t.wait()\n",
    "\n",
    "cmd_ano = '''\"D:/software/ParaView 5.8.1-Windows-Python3.7-msvc2015-64bit/bin/python4.exe\" \n",
    "            C:/Users/lidan/PycharmProjects/volume2obj/main.py -i C:/Users/lidan/Desktop/SWC2Obj/newResult/N{0:03d}.swc \n",
    "            -o C:/Users/lidan/Desktop/SWC2Obj/newResult/N{0:03d}_use.obj &&  \n",
    "            C:/Users/lidan/Desktop/SWC2Obj/cmake-build-release/ObjMerge/mergeOBJ.exe -i  C:/Users/lidan/Desktop/SWC2Obj/newResult/N{0:03d}_use.obj \n",
    "            -o C:/Users/lidan/Desktop/SWC2Obj/newResult/N{0:03d}_new_use.obj\n",
    "'''\n",
    "\n",
    "cmd_ano1 = '''C:/Users/lidan/Desktop/SWC2Obj/cmake-build-release/SWC2Obj.exe -s C:/Users/lidan/Desktop/brain/14193_30neurons/N{0:03d}.swc -o D:/person/temp/ -b 256 &&\"D:/software/ParaView 5.8.1-Windows-Python3.7-msvc2015-64bit/bin/python4.exe\" C:/Users/lidan/PycharmProjects/volume2obj/main.py -i D:/person/temp/newResult/N{0:03d}.swc -o D:/person/temp/N{0:03d}_use.obj &&  C:/Users/lidan/Desktop/SWC2Obj/cmake-build-release/ObjMerge/mergeOBJ.exe -i  D:/person/temp/N{0:03d}_use.obj -o D:/person/temp/N{0:03d}_new_use.obj'''\n",
    "cmd_ano2 = '''C:/Users/lidan/Desktop/SWC2Obj/cmake-build-release/SWC2Obj.exe -s C:/Users/lidan/Desktop/brain/14193_30neurons/N{0:03d}.swc -o D:/person/temp/ -b 128 &&\"D:/software/ParaView 5.8.1-Windows-Python3.7-msvc2015-64bit/bin/python4.exe\" C:/Users/lidan/PycharmProjects/volume2obj/main.py -i D:/person/temp/newResult/N{0:03d}.swc -o D:/person/temp/N{0:03d}_use.obj &&  C:/Users/lidan/Desktop/SWC2Obj/cmake-build-release/ObjMerge/mergeOBJ.exe -i  D:/person/temp/N{0:03d}_use.obj -o D:/person/temp/N{0:03d}_new_use.obj'''\n",
    "\n",
    "allstr = \"\"\n",
    "for i in range(24,30):\n",
    "    if i!=26:  \n",
    "        str1 = cmd_ano1.format(i)\n",
    "    else:\n",
    "        str1 = cmd_ano2.format(i)\n",
    "    allstr += str1+'&&'\n",
    "# allstr += cmd_ano1.format(10)\n",
    "allstr = allstr[:-2]\n",
    "print(allstr)\n",
    "#     t1 = Popen(str1,shell=True, stdout = PIPE,stderr = PIPE)\n",
    "#     for line in iter(t1.stdout.readline, ''):\n",
    "#         print(line)\n",
    "#     t1.stdout.close()\n",
    "#     t1.wait() \n",
    "\n",
    "\n"
   ]
  },
  {
   "cell_type": "code",
   "execution_count": 15,
   "metadata": {},
   "outputs": [
    {
     "name": "stdout",
     "output_type": "stream",
     "text": [
      "C:/Users/lidan/Desktop/SWC2Obj/cmake-build-release/ObjMerge/mergeOBJ.exe -i  C:/Users/lidan/Desktop/SWC2Obj/newResult/N001_use.obj  -o C:/Users/lidan/Desktop/SWC2Obj/newResult/N001_new_use1.obj&&C:/Users/lidan/Desktop/SWC2Obj/cmake-build-release/ObjMerge/mergeOBJ.exe -i  C:/Users/lidan/Desktop/SWC2Obj/newResult/N002_use.obj  -o C:/Users/lidan/Desktop/SWC2Obj/newResult/N002_new_use1.obj&&C:/Users/lidan/Desktop/SWC2Obj/cmake-build-release/ObjMerge/mergeOBJ.exe -i  C:/Users/lidan/Desktop/SWC2Obj/newResult/N003_use.obj  -o C:/Users/lidan/Desktop/SWC2Obj/newResult/N003_new_use1.obj&&C:/Users/lidan/Desktop/SWC2Obj/cmake-build-release/ObjMerge/mergeOBJ.exe -i  C:/Users/lidan/Desktop/SWC2Obj/newResult/N004_use.obj  -o C:/Users/lidan/Desktop/SWC2Obj/newResult/N004_new_use1.obj&&C:/Users/lidan/Desktop/SWC2Obj/cmake-build-release/ObjMerge/mergeOBJ.exe -i  C:/Users/lidan/Desktop/SWC2Obj/newResult/N005_use.obj  -o C:/Users/lidan/Desktop/SWC2Obj/newResult/N005_new_use1.obj&&C:/Users/lidan/Desktop/SWC2Obj/cmake-build-release/ObjMerge/mergeOBJ.exe -i  C:/Users/lidan/Desktop/SWC2Obj/newResult/N006_use.obj  -o C:/Users/lidan/Desktop/SWC2Obj/newResult/N006_new_use1.obj&&C:/Users/lidan/Desktop/SWC2Obj/cmake-build-release/ObjMerge/mergeOBJ.exe -i  C:/Users/lidan/Desktop/SWC2Obj/newResult/N007_use.obj  -o C:/Users/lidan/Desktop/SWC2Obj/newResult/N007_new_use1.obj&&C:/Users/lidan/Desktop/SWC2Obj/cmake-build-release/ObjMerge/mergeOBJ.exe -i  C:/Users/lidan/Desktop/SWC2Obj/newResult/N008_use.obj  -o C:/Users/lidan/Desktop/SWC2Obj/newResult/N008_new_use1.obj&&C:/Users/lidan/Desktop/SWC2Obj/cmake-build-release/ObjMerge/mergeOBJ.exe -i  C:/Users/lidan/Desktop/SWC2Obj/newResult/N009_use.obj  -o C:/Users/lidan/Desktop/SWC2Obj/newResult/N009_new_use1.obj\n"
     ]
    }
   ],
   "source": [
    "comd = '''C:/Users/lidan/Desktop/SWC2Obj/cmake-build-release/ObjMerge/mergeOBJ.exe -i  C:/Users/lidan/Desktop/SWC2Obj/newResult/N{0:03d}_use.obj  -o C:/Users/lidan/Desktop/SWC2Obj/newResult/N{0:03d}_new_use1.obj'''\n",
    "allstr = \"\"\n",
    "for i in range(1,10):\n",
    "    cm = comd.format(i)\n",
    "    allstr += cm+'&&'\n",
    "allstr = allstr[:-2]\n",
    "print(allstr)"
   ]
  }
 ],
 "metadata": {
  "kernelspec": {
   "display_name": "Python 3",
   "language": "python",
   "name": "python3"
  },
  "language_info": {
   "codemirror_mode": {
    "name": "ipython",
    "version": 3
   },
   "file_extension": ".py",
   "mimetype": "text/x-python",
   "name": "python",
   "nbconvert_exporter": "python",
   "pygments_lexer": "ipython3",
   "version": "3.7.0"
  }
 },
 "nbformat": 4,
 "nbformat_minor": 2
}
