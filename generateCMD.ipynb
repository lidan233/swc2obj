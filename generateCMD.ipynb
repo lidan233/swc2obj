{
 "cells": [
  {
   "cell_type": "code",
   "execution_count": 1,
   "metadata": {},
   "outputs": [
    {
     "name": "stdout",
     "output_type": "stream",
     "text": [
      "C:/Users/lidan/Desktop/SWC2Obj/cmake-build-release/SWC2Obj.exe -s C:/Users/lidan/Desktop/brain/14193_30neurons/N030.swc -o D:/person/temp/ -b 256 &&\"D:/software/ParaView 5.8.1-Windows-Python3.7-msvc2015-64bit/bin/python4.exe\" C:/Users/lidan/PycharmProjects/volume2obj/main.py -i D:/person/temp/newResult/N030.swc -o D:/person/temp/N030_use.obj &&  C:/Users/lidan/Desktop/SWC2Obj/cmake-build-release/ObjMerge/mergeOBJ.exe -i  D:/person/temp/N030_use.obj -o D:/person/temp/N030_new_use.obj\n"
     ]
    }
   ],
   "source": [
    "import sys\n",
    "\n",
    "from subprocess import Popen, PIPE, STDOUT\n",
    "import os\n",
    "\n",
    "# cmd = '''git-bash.exe&&C:/Users/lidan/Desktop/SWC2Obj/cmake-build-release/SWC2Obj.exe -s C:/Users/lidan/Desktop/brain/14193_30neurons/ -o C:/Users/lidan/Desktop/SWC2Obj/Result/ -b 128'''\n",
    "\n",
    "# t = Popen(cmd, shell=True, stdout = PIPE,stderr = PIPE)\n",
    "# for line in iter(t.stdout.readline, ''):\n",
    "#     print(line)\n",
    "# t.stdout.close()\n",
    "# t.wait()\n",
    "\n",
    "cmd_ano = '''\"D:/software/ParaView 5.8.1-Windows-Python3.7-msvc2015-64bit/bin/python4.exe\" \n",
    "            C:/Users/lidan/PycharmProjects/volume2obj/main.py -i C:/Users/lidan/Desktop/SWC2Obj/newResult/N{0:03d}.swc \n",
    "            -o C:/Users/lidan/Desktop/SWC2Obj/newResult/N{0:03d}_use.obj &&  \n",
    "            C:/Users/lidan/Desktop/SWC2Obj/cmake-build-release/ObjMerge/mergeOBJ.exe -i  C:/Users/lidan/Desktop/SWC2Obj/newResult/N{0:03d}_use.obj \n",
    "            -o C:/Users/lidan/Desktop/SWC2Obj/newResult/N{0:03d}_new_use.obj\n",
    "'''\n",
    "\n",
    "cmd_ano1 = '''C:/Users/lidan/Desktop/SWC2Obj/cmake-build-release/SWC2Obj.exe -s C:/Users/lidan/Desktop/brain/14193_30neurons/N{0:03d}.swc -o D:/person/temp/ -b 256 &&\"D:/software/ParaView 5.8.1-Windows-Python3.7-msvc2015-64bit/bin/python4.exe\" C:/Users/lidan/PycharmProjects/volume2obj/main.py -i D:/person/temp/newResult/N{0:03d}.swc -o D:/person/temp/N{0:03d}_use.obj &&  C:/Users/lidan/Desktop/SWC2Obj/cmake-build-release/ObjMerge/mergeOBJ.exe -i  D:/person/temp/N{0:03d}_use.obj -o D:/person/temp/N{0:03d}_new_use.obj'''\n",
    "cmd_ano2 = '''C:/Users/lidan/Desktop/SWC2Obj/cmake-build-release/SWC2Obj.exe -s C:/Users/lidan/Desktop/brain/14193_30neurons/N{0:03d}.swc -o D:/person/temp/ -b 128 &&\"D:/software/ParaView 5.8.1-Windows-Python3.7-msvc2015-64bit/bin/python4.exe\" C:/Users/lidan/PycharmProjects/volume2obj/main.py -i D:/person/temp/newResult/N{0:03d}.swc -o D:/person/temp/N{0:03d}_use.obj &&  C:/Users/lidan/Desktop/SWC2Obj/cmake-build-release/ObjMerge/mergeOBJ.exe -i  D:/person/temp/N{0:03d}_use.obj -o D:/person/temp/N{0:03d}_new_use.obj'''\n",
    "\n",
    "allstr = \"\"\n",
    "for i in range(30,31):\n",
    "    if i!=26:  \n",
    "        str1 = cmd_ano1.format(i)\n",
    "    else:\n",
    "        str1 = cmd_ano2.format(i)\n",
    "    allstr += str1+'&&'\n",
    "# allstr += cmd_ano1.format(10)\n",
    "allstr = allstr[:-2]\n",
    "print(allstr)\n",
    "#     t1 = Popen(str1,shell=True, stdout = PIPE,stderr = PIPE)\n",
    "#     for line in iter(t1.stdout.readline, ''):\n",
    "#         print(line)\n",
    "#     t1.stdout.close()\n",
    "#     t1.wait() \n",
    "\n",
    "\n"
   ]
  },
  {
   "cell_type": "code",
   "execution_count": 44,
   "metadata": {},
   "outputs": [
    {
     "name": "stdout",
     "output_type": "stream",
     "text": [
      "C:/Users/lidan/Desktop/SWC2Obj/cmake-build-release/ObjMerge/mergeOBJ.exe -i  C:/Users/lidan/Desktop/allobj/N030_use.obj  -o C:/Users/lidan/Desktop/allobj/N030_new_use.obj\n"
     ]
    }
   ],
   "source": [
    "comd = '''C:/Users/lidan/Desktop/SWC2Obj/cmake-build-release/ObjMerge/mergeOBJ.exe -i  C:/Users/lidan/Desktop/allobj/N{0:03d}_use.obj  -o C:/Users/lidan/Desktop/allobj/N{0:03d}_new_use.obj'''\n",
    "allstr = \"\"\n",
    "for i in range(30,31):\n",
    "    cm = comd.format(i)\n",
    "    allstr += cm+'&&'\n",
    "allstr = allstr[:-2]\n",
    "print(allstr)"
   ]
  },
  {
   "cell_type": "code",
   "execution_count": 46,
   "metadata": {},
   "outputs": [],
   "source": [
    "import trimesh as tm \n",
    "f = open('D:/Apache24/htdocs/webgl/N030_new_use1.obj','r+')\n",
    "obj = tm.exchange.obj.load_obj(f)\n",
    "obj1 = trimesh.Trimesh(vertices=obj['vertices'],faces=obj['faces'],vertex_normals=obj['vertex_normals']) \n",
    "obj2 = tm.smoothing.filter_taubin(obj1,lamb=0.5, nu=-0.1, iterations=10)\n",
    "objz = tm.exchange.obj.export_obj(obj2,include_normals=True)\n",
    "with open('D:/Apache24/htdocs/webgl/N030_new_use1.obj','w+') as f:\n",
    "    f.write(objz)"
   ]
  },
  {
   "cell_type": "code",
   "execution_count": 41,
   "metadata": {},
   "outputs": [
    {
     "data": {
      "text/plain": [
       "'\"D:/software/ParaView 5.8.1-Windows-Python3.7-msvc2015-64bit/bin/python4.exe\"  C:/Users/lidan/PycharmProjects/volume2obj/last.py -i C:/Users/lidan/Desktop/allobj/N001_new_use.obj -o C:/Users/lidan/Desktop/allobj/N001_new_use.obj&&\"D:/software/ParaView 5.8.1-Windows-Python3.7-msvc2015-64bit/bin/python4.exe\"  C:/Users/lidan/PycharmProjects/volume2obj/last.py -i C:/Users/lidan/Desktop/allobj/N001_new_use1.obj -o C:/Users/lidan/Desktop/allobj/N001_new_use1.obj&&\"D:/software/ParaView 5.8.1-Windows-Python3.7-msvc2015-64bit/bin/python4.exe\"  C:/Users/lidan/PycharmProjects/volume2obj/last.py -i C:/Users/lidan/Desktop/allobj/N002_new_use.obj -o C:/Users/lidan/Desktop/allobj/N002_new_use.obj&&\"D:/software/ParaView 5.8.1-Windows-Python3.7-msvc2015-64bit/bin/python4.exe\"  C:/Users/lidan/PycharmProjects/volume2obj/last.py -i C:/Users/lidan/Desktop/allobj/N002_new_use1.obj -o C:/Users/lidan/Desktop/allobj/N002_new_use1.obj&&\"D:/software/ParaView 5.8.1-Windows-Python3.7-msvc2015-64bit/bin/python4.exe\"  C:/Users/lidan/PycharmProjects/volume2obj/last.py -i C:/Users/lidan/Desktop/allobj/N003_new_use.obj -o C:/Users/lidan/Desktop/allobj/N003_new_use.obj&&\"D:/software/ParaView 5.8.1-Windows-Python3.7-msvc2015-64bit/bin/python4.exe\"  C:/Users/lidan/PycharmProjects/volume2obj/last.py -i C:/Users/lidan/Desktop/allobj/N003_new_use1.obj -o C:/Users/lidan/Desktop/allobj/N003_new_use1.obj&&\"D:/software/ParaView 5.8.1-Windows-Python3.7-msvc2015-64bit/bin/python4.exe\"  C:/Users/lidan/PycharmProjects/volume2obj/last.py -i C:/Users/lidan/Desktop/allobj/N004_new_use.obj -o C:/Users/lidan/Desktop/allobj/N004_new_use.obj&&\"D:/software/ParaView 5.8.1-Windows-Python3.7-msvc2015-64bit/bin/python4.exe\"  C:/Users/lidan/PycharmProjects/volume2obj/last.py -i C:/Users/lidan/Desktop/allobj/N004_new_use1.obj -o C:/Users/lidan/Desktop/allobj/N004_new_use1.obj&&\"D:/software/ParaView 5.8.1-Windows-Python3.7-msvc2015-64bit/bin/python4.exe\"  C:/Users/lidan/PycharmProjects/volume2obj/last.py -i C:/Users/lidan/Desktop/allobj/N005_new_use.obj -o C:/Users/lidan/Desktop/allobj/N005_new_use.obj&&\"D:/software/ParaView 5.8.1-Windows-Python3.7-msvc2015-64bit/bin/python4.exe\"  C:/Users/lidan/PycharmProjects/volume2obj/last.py -i C:/Users/lidan/Desktop/allobj/N005_new_use1.obj -o C:/Users/lidan/Desktop/allobj/N005_new_use1.obj&&\"D:/software/ParaView 5.8.1-Windows-Python3.7-msvc2015-64bit/bin/python4.exe\"  C:/Users/lidan/PycharmProjects/volume2obj/last.py -i C:/Users/lidan/Desktop/allobj/N006_new_use.obj -o C:/Users/lidan/Desktop/allobj/N006_new_use.obj&&\"D:/software/ParaView 5.8.1-Windows-Python3.7-msvc2015-64bit/bin/python4.exe\"  C:/Users/lidan/PycharmProjects/volume2obj/last.py -i C:/Users/lidan/Desktop/allobj/N006_new_use1.obj -o C:/Users/lidan/Desktop/allobj/N006_new_use1.obj&&\"D:/software/ParaView 5.8.1-Windows-Python3.7-msvc2015-64bit/bin/python4.exe\"  C:/Users/lidan/PycharmProjects/volume2obj/last.py -i C:/Users/lidan/Desktop/allobj/N007_new_use.obj -o C:/Users/lidan/Desktop/allobj/N007_new_use.obj&&\"D:/software/ParaView 5.8.1-Windows-Python3.7-msvc2015-64bit/bin/python4.exe\"  C:/Users/lidan/PycharmProjects/volume2obj/last.py -i C:/Users/lidan/Desktop/allobj/N007_new_use1.obj -o C:/Users/lidan/Desktop/allobj/N007_new_use1.obj&&\"D:/software/ParaView 5.8.1-Windows-Python3.7-msvc2015-64bit/bin/python4.exe\"  C:/Users/lidan/PycharmProjects/volume2obj/last.py -i C:/Users/lidan/Desktop/allobj/N008_new_use.obj -o C:/Users/lidan/Desktop/allobj/N008_new_use.obj&&\"D:/software/ParaView 5.8.1-Windows-Python3.7-msvc2015-64bit/bin/python4.exe\"  C:/Users/lidan/PycharmProjects/volume2obj/last.py -i C:/Users/lidan/Desktop/allobj/N008_new_use1.obj -o C:/Users/lidan/Desktop/allobj/N008_new_use1.obj&&\"D:/software/ParaView 5.8.1-Windows-Python3.7-msvc2015-64bit/bin/python4.exe\"  C:/Users/lidan/PycharmProjects/volume2obj/last.py -i C:/Users/lidan/Desktop/allobj/N009_new_use.obj -o C:/Users/lidan/Desktop/allobj/N009_new_use.obj&&\"D:/software/ParaView 5.8.1-Windows-Python3.7-msvc2015-64bit/bin/python4.exe\"  C:/Users/lidan/PycharmProjects/volume2obj/last.py -i C:/Users/lidan/Desktop/allobj/N009_new_use1.obj -o C:/Users/lidan/Desktop/allobj/N009_new_use1.obj&&\"D:/software/ParaView 5.8.1-Windows-Python3.7-msvc2015-64bit/bin/python4.exe\"  C:/Users/lidan/PycharmProjects/volume2obj/last.py -i C:/Users/lidan/Desktop/allobj/N010_new_use.obj -o C:/Users/lidan/Desktop/allobj/N010_new_use.obj&&\"D:/software/ParaView 5.8.1-Windows-Python3.7-msvc2015-64bit/bin/python4.exe\"  C:/Users/lidan/PycharmProjects/volume2obj/last.py -i C:/Users/lidan/Desktop/allobj/N010_new_use1.obj -o C:/Users/lidan/Desktop/allobj/N010_new_use1.obj&&\"D:/software/ParaView 5.8.1-Windows-Python3.7-msvc2015-64bit/bin/python4.exe\"  C:/Users/lidan/PycharmProjects/volume2obj/last.py -i C:/Users/lidan/Desktop/allobj/N011_new_use.obj -o C:/Users/lidan/Desktop/allobj/N011_new_use.obj&&\"D:/software/ParaView 5.8.1-Windows-Python3.7-msvc2015-64bit/bin/python4.exe\"  C:/Users/lidan/PycharmProjects/volume2obj/last.py -i C:/Users/lidan/Desktop/allobj/N011_new_use1.obj -o C:/Users/lidan/Desktop/allobj/N011_new_use1.obj&&\"D:/software/ParaView 5.8.1-Windows-Python3.7-msvc2015-64bit/bin/python4.exe\"  C:/Users/lidan/PycharmProjects/volume2obj/last.py -i C:/Users/lidan/Desktop/allobj/N012_new_use.obj -o C:/Users/lidan/Desktop/allobj/N012_new_use.obj&&\"D:/software/ParaView 5.8.1-Windows-Python3.7-msvc2015-64bit/bin/python4.exe\"  C:/Users/lidan/PycharmProjects/volume2obj/last.py -i C:/Users/lidan/Desktop/allobj/N012_new_use1.obj -o C:/Users/lidan/Desktop/allobj/N012_new_use1.obj&&\"D:/software/ParaView 5.8.1-Windows-Python3.7-msvc2015-64bit/bin/python4.exe\"  C:/Users/lidan/PycharmProjects/volume2obj/last.py -i C:/Users/lidan/Desktop/allobj/N013_new_use.obj -o C:/Users/lidan/Desktop/allobj/N013_new_use.obj&&\"D:/software/ParaView 5.8.1-Windows-Python3.7-msvc2015-64bit/bin/python4.exe\"  C:/Users/lidan/PycharmProjects/volume2obj/last.py -i C:/Users/lidan/Desktop/allobj/N013_new_use1.obj -o C:/Users/lidan/Desktop/allobj/N013_new_use1.obj&&\"D:/software/ParaView 5.8.1-Windows-Python3.7-msvc2015-64bit/bin/python4.exe\"  C:/Users/lidan/PycharmProjects/volume2obj/last.py -i C:/Users/lidan/Desktop/allobj/N014_new_use.obj -o C:/Users/lidan/Desktop/allobj/N014_new_use.obj&&\"D:/software/ParaView 5.8.1-Windows-Python3.7-msvc2015-64bit/bin/python4.exe\"  C:/Users/lidan/PycharmProjects/volume2obj/last.py -i C:/Users/lidan/Desktop/allobj/N014_new_use1.obj -o C:/Users/lidan/Desktop/allobj/N014_new_use1.obj&&\"D:/software/ParaView 5.8.1-Windows-Python3.7-msvc2015-64bit/bin/python4.exe\"  C:/Users/lidan/PycharmProjects/volume2obj/last.py -i C:/Users/lidan/Desktop/allobj/N015_new_use.obj -o C:/Users/lidan/Desktop/allobj/N015_new_use.obj&&\"D:/software/ParaView 5.8.1-Windows-Python3.7-msvc2015-64bit/bin/python4.exe\"  C:/Users/lidan/PycharmProjects/volume2obj/last.py -i C:/Users/lidan/Desktop/allobj/N015_new_use1.obj -o C:/Users/lidan/Desktop/allobj/N015_new_use1.obj&&\"D:/software/ParaView 5.8.1-Windows-Python3.7-msvc2015-64bit/bin/python4.exe\"  C:/Users/lidan/PycharmProjects/volume2obj/last.py -i C:/Users/lidan/Desktop/allobj/N016_new_use.obj -o C:/Users/lidan/Desktop/allobj/N016_new_use.obj&&\"D:/software/ParaView 5.8.1-Windows-Python3.7-msvc2015-64bit/bin/python4.exe\"  C:/Users/lidan/PycharmProjects/volume2obj/last.py -i C:/Users/lidan/Desktop/allobj/N016_new_use1.obj -o C:/Users/lidan/Desktop/allobj/N016_new_use1.obj&&\"D:/software/ParaView 5.8.1-Windows-Python3.7-msvc2015-64bit/bin/python4.exe\"  C:/Users/lidan/PycharmProjects/volume2obj/last.py -i C:/Users/lidan/Desktop/allobj/N017_new_use.obj -o C:/Users/lidan/Desktop/allobj/N017_new_use.obj&&\"D:/software/ParaView 5.8.1-Windows-Python3.7-msvc2015-64bit/bin/python4.exe\"  C:/Users/lidan/PycharmProjects/volume2obj/last.py -i C:/Users/lidan/Desktop/allobj/N017_new_use1.obj -o C:/Users/lidan/Desktop/allobj/N017_new_use1.obj&&\"D:/software/ParaView 5.8.1-Windows-Python3.7-msvc2015-64bit/bin/python4.exe\"  C:/Users/lidan/PycharmProjects/volume2obj/last.py -i C:/Users/lidan/Desktop/allobj/N018_new_use.obj -o C:/Users/lidan/Desktop/allobj/N018_new_use.obj&&\"D:/software/ParaView 5.8.1-Windows-Python3.7-msvc2015-64bit/bin/python4.exe\"  C:/Users/lidan/PycharmProjects/volume2obj/last.py -i C:/Users/lidan/Desktop/allobj/N018_new_use1.obj -o C:/Users/lidan/Desktop/allobj/N018_new_use1.obj&&\"D:/software/ParaView 5.8.1-Windows-Python3.7-msvc2015-64bit/bin/python4.exe\"  C:/Users/lidan/PycharmProjects/volume2obj/last.py -i C:/Users/lidan/Desktop/allobj/N019_new_use.obj -o C:/Users/lidan/Desktop/allobj/N019_new_use.obj&&\"D:/software/ParaView 5.8.1-Windows-Python3.7-msvc2015-64bit/bin/python4.exe\"  C:/Users/lidan/PycharmProjects/volume2obj/last.py -i C:/Users/lidan/Desktop/allobj/N019_new_use1.obj -o C:/Users/lidan/Desktop/allobj/N019_new_use1.obj&&\"D:/software/ParaView 5.8.1-Windows-Python3.7-msvc2015-64bit/bin/python4.exe\"  C:/Users/lidan/PycharmProjects/volume2obj/last.py -i C:/Users/lidan/Desktop/allobj/N020_new_use.obj -o C:/Users/lidan/Desktop/allobj/N020_new_use.obj&&\"D:/software/ParaView 5.8.1-Windows-Python3.7-msvc2015-64bit/bin/python4.exe\"  C:/Users/lidan/PycharmProjects/volume2obj/last.py -i C:/Users/lidan/Desktop/allobj/N020_new_use1.obj -o C:/Users/lidan/Desktop/allobj/N020_new_use1.obj&&\"D:/software/ParaView 5.8.1-Windows-Python3.7-msvc2015-64bit/bin/python4.exe\"  C:/Users/lidan/PycharmProjects/volume2obj/last.py -i C:/Users/lidan/Desktop/allobj/N021_new_use.obj -o C:/Users/lidan/Desktop/allobj/N021_new_use.obj&&\"D:/software/ParaView 5.8.1-Windows-Python3.7-msvc2015-64bit/bin/python4.exe\"  C:/Users/lidan/PycharmProjects/volume2obj/last.py -i C:/Users/lidan/Desktop/allobj/N021_new_use1.obj -o C:/Users/lidan/Desktop/allobj/N021_new_use1.obj&&\"D:/software/ParaView 5.8.1-Windows-Python3.7-msvc2015-64bit/bin/python4.exe\"  C:/Users/lidan/PycharmProjects/volume2obj/last.py -i C:/Users/lidan/Desktop/allobj/N022_new_use.obj -o C:/Users/lidan/Desktop/allobj/N022_new_use.obj&&\"D:/software/ParaView 5.8.1-Windows-Python3.7-msvc2015-64bit/bin/python4.exe\"  C:/Users/lidan/PycharmProjects/volume2obj/last.py -i C:/Users/lidan/Desktop/allobj/N022_new_use1.obj -o C:/Users/lidan/Desktop/allobj/N022_new_use1.obj&&\"D:/software/ParaView 5.8.1-Windows-Python3.7-msvc2015-64bit/bin/python4.exe\"  C:/Users/lidan/PycharmProjects/volume2obj/last.py -i C:/Users/lidan/Desktop/allobj/N023_new_use.obj -o C:/Users/lidan/Desktop/allobj/N023_new_use.obj&&\"D:/software/ParaView 5.8.1-Windows-Python3.7-msvc2015-64bit/bin/python4.exe\"  C:/Users/lidan/PycharmProjects/volume2obj/last.py -i C:/Users/lidan/Desktop/allobj/N023_new_use1.obj -o C:/Users/lidan/Desktop/allobj/N023_new_use1.obj&&\"D:/software/ParaView 5.8.1-Windows-Python3.7-msvc2015-64bit/bin/python4.exe\"  C:/Users/lidan/PycharmProjects/volume2obj/last.py -i C:/Users/lidan/Desktop/allobj/N024_new_use.obj -o C:/Users/lidan/Desktop/allobj/N024_new_use.obj&&\"D:/software/ParaView 5.8.1-Windows-Python3.7-msvc2015-64bit/bin/python4.exe\"  C:/Users/lidan/PycharmProjects/volume2obj/last.py -i C:/Users/lidan/Desktop/allobj/N024_new_use1.obj -o C:/Users/lidan/Desktop/allobj/N024_new_use1.obj&&\"D:/software/ParaView 5.8.1-Windows-Python3.7-msvc2015-64bit/bin/python4.exe\"  C:/Users/lidan/PycharmProjects/volume2obj/last.py -i C:/Users/lidan/Desktop/allobj/N025_new_use.obj -o C:/Users/lidan/Desktop/allobj/N025_new_use.obj&&\"D:/software/ParaView 5.8.1-Windows-Python3.7-msvc2015-64bit/bin/python4.exe\"  C:/Users/lidan/PycharmProjects/volume2obj/last.py -i C:/Users/lidan/Desktop/allobj/N025_new_use1.obj -o C:/Users/lidan/Desktop/allobj/N025_new_use1.obj&&\"D:/software/ParaView 5.8.1-Windows-Python3.7-msvc2015-64bit/bin/python4.exe\"  C:/Users/lidan/PycharmProjects/volume2obj/last.py -i C:/Users/lidan/Desktop/allobj/N026_new_use.obj -o C:/Users/lidan/Desktop/allobj/N026_new_use.obj&&\"D:/software/ParaView 5.8.1-Windows-Python3.7-msvc2015-64bit/bin/python4.exe\"  C:/Users/lidan/PycharmProjects/volume2obj/last.py -i C:/Users/lidan/Desktop/allobj/N026_new_use1.obj -o C:/Users/lidan/Desktop/allobj/N026_new_use1.obj&&\"D:/software/ParaView 5.8.1-Windows-Python3.7-msvc2015-64bit/bin/python4.exe\"  C:/Users/lidan/PycharmProjects/volume2obj/last.py -i C:/Users/lidan/Desktop/allobj/N027_new_use.obj -o C:/Users/lidan/Desktop/allobj/N027_new_use.obj&&\"D:/software/ParaView 5.8.1-Windows-Python3.7-msvc2015-64bit/bin/python4.exe\"  C:/Users/lidan/PycharmProjects/volume2obj/last.py -i C:/Users/lidan/Desktop/allobj/N027_new_use1.obj -o C:/Users/lidan/Desktop/allobj/N027_new_use1.obj&&\"D:/software/ParaView 5.8.1-Windows-Python3.7-msvc2015-64bit/bin/python4.exe\"  C:/Users/lidan/PycharmProjects/volume2obj/last.py -i C:/Users/lidan/Desktop/allobj/N028_new_use.obj -o C:/Users/lidan/Desktop/allobj/N028_new_use.obj&&\"D:/software/ParaView 5.8.1-Windows-Python3.7-msvc2015-64bit/bin/python4.exe\"  C:/Users/lidan/PycharmProjects/volume2obj/last.py -i C:/Users/lidan/Desktop/allobj/N028_new_use1.obj -o C:/Users/lidan/Desktop/allobj/N028_new_use1.obj&&\"D:/software/ParaView 5.8.1-Windows-Python3.7-msvc2015-64bit/bin/python4.exe\"  C:/Users/lidan/PycharmProjects/volume2obj/last.py -i C:/Users/lidan/Desktop/allobj/N029_new_use.obj -o C:/Users/lidan/Desktop/allobj/N029_new_use.obj&&\"D:/software/ParaView 5.8.1-Windows-Python3.7-msvc2015-64bit/bin/python4.exe\"  C:/Users/lidan/PycharmProjects/volume2obj/last.py -i C:/Users/lidan/Desktop/allobj/N029_new_use1.obj -o C:/Users/lidan/Desktop/allobj/N029_new_use1.obj&&\"D:/software/ParaView 5.8.1-Windows-Python3.7-msvc2015-64bit/bin/python4.exe\"  C:/Users/lidan/PycharmProjects/volume2obj/last.py -i C:/Users/lidan/Desktop/allobj/N030_new_use.obj -o C:/Users/lidan/Desktop/allobj/N030_new_use.obj&&\"D:/software/ParaView 5.8.1-Windows-Python3.7-msvc2015-64bit/bin/python4.exe\"  C:/Users/lidan/PycharmProjects/volume2obj/last.py -i C:/Users/lidan/Desktop/allobj/N030_new_use1.obj -o C:/Users/lidan/Desktop/allobj/N030_new_use1.obj'"
      ]
     },
     "execution_count": 41,
     "metadata": {},
     "output_type": "execute_result"
    }
   ],
   "source": [
    "a = '''\"D:/software/ParaView 5.8.1-Windows-Python3.7-msvc2015-64bit/bin/python4.exe\"  C:/Users/lidan/PycharmProjects/volume2obj/last.py -i {0:s} -o {1:s}'''\n",
    "import os\n",
    "filedir = 'C:/Users/lidan/Desktop/allobj'\n",
    "files = os.listdir(filedir)\n",
    "allstr = \"\"\n",
    "for i in files:\n",
    "    if i.find('new')!=-1:\n",
    "        allstr+= a.format(filedir+'/'+i,filedir+'/'+i )+\"&&\"\n",
    "allstr[:-2]"
   ]
  }
 ],
 "metadata": {
  "kernelspec": {
   "display_name": "Python 3",
   "language": "python",
   "name": "python3"
  },
  "language_info": {
   "codemirror_mode": {
    "name": "ipython",
    "version": 3
   },
   "file_extension": ".py",
   "mimetype": "text/x-python",
   "name": "python",
   "nbconvert_exporter": "python",
   "pygments_lexer": "ipython3",
   "version": "3.7.0"
  }
 },
 "nbformat": 4,
 "nbformat_minor": 2
}
